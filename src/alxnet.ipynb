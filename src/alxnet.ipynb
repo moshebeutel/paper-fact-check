{
 "cells": [
  {
   "cell_type": "code",
   "execution_count": 1,
   "id": "19ed1186-b664-48ed-92ed-6f31c666da11",
   "metadata": {},
   "outputs": [],
   "source": [
    "import tensorflow as tf\n",
    "from tensorflow import keras\n",
    "from tensorflow.keras import layers, activations, losses, metrics, optimizers\n",
    "import numpy as np"
   ]
  },
  {
   "cell_type": "code",
   "execution_count": 2,
   "id": "ccc78569-3a7a-4d00-a728-a31223571589",
   "metadata": {},
   "outputs": [],
   "source": [
    "kernel_initializer = keras.initializers.RandomNormal(mean=0.0, stddev=0.01, seed=123)\n",
    "bias_initializer = keras.initializers.Constant(1.0)"
   ]
  },
  {
   "cell_type": "code",
   "execution_count": 3,
   "id": "77d2db07-f09f-428b-ab55-ac6116a5812e",
   "metadata": {},
   "outputs": [
    {
     "name": "stdout",
     "output_type": "stream",
     "text": [
      "Model: \"model\"\n",
      "_________________________________________________________________\n",
      "Layer (type)                 Output Shape              Param #   \n",
      "=================================================================\n",
      "input_1 (InputLayer)         [(None, 32, 32, 3)]       0         \n",
      "_________________________________________________________________\n",
      "conv2d (Conv2D)              (None, 28, 28, 256)       19456     \n",
      "_________________________________________________________________\n",
      "batch_normalization (BatchNo (None, 28, 28, 256)       1024      \n",
      "_________________________________________________________________\n",
      "max_pooling2d (MaxPooling2D) (None, 14, 14, 256)       0         \n",
      "_________________________________________________________________\n",
      "conv2d_1 (Conv2D)            (None, 12, 12, 384)       885120    \n",
      "_________________________________________________________________\n",
      "conv2d_2 (Conv2D)            (None, 10, 10, 384)       1327488   \n",
      "_________________________________________________________________\n",
      "conv2d_3 (Conv2D)            (None, 8, 8, 256)         884992    \n",
      "_________________________________________________________________\n",
      "max_pooling2d_1 (MaxPooling2 (None, 3, 3, 256)         0         \n",
      "_________________________________________________________________\n",
      "flatten (Flatten)            (None, 2304)              0         \n",
      "_________________________________________________________________\n",
      "dense (Dense)                (None, 4096)              9441280   \n",
      "_________________________________________________________________\n",
      "dropout (Dropout)            (None, 4096)              0         \n",
      "_________________________________________________________________\n",
      "dense_1 (Dense)              (None, 4096)              16781312  \n",
      "_________________________________________________________________\n",
      "dropout_1 (Dropout)          (None, 4096)              0         \n",
      "_________________________________________________________________\n",
      "dense_2 (Dense)              (None, 100)               409700    \n",
      "=================================================================\n",
      "Total params: 29,750,372\n",
      "Trainable params: 29,749,860\n",
      "Non-trainable params: 512\n",
      "_________________________________________________________________\n"
     ]
    }
   ],
   "source": [
    "def create_model(input_shape=(224,224,3), num_of_classes = 1000):\n",
    "    inputs = tf.keras.Input(shape=input_shape)\n",
    "    x = inputs\n",
    "    if input_shape[0] > 200:  \n",
    "        # The following layer is the original AlexNet first conv layer. \n",
    "        # Removed since we are dealing with cifar100 which is 32X32X3.\n",
    "        # Alexnet is designed for imagenet which is 224X224X3\n",
    "        x = layers.Conv2D(96, 11, strides=(4,4), activation=\"relu\")(x)\n",
    "        x = layers.BatchNormalization()(x)\n",
    "        x = layers.MaxPooling2D(pool_size=(3,3), strides=(2,2), padding='same')(x)\n",
    "    x = layers.Conv2D(256, 5, activation=\"relu\", kernel_initializer=kernel_initializer, bias_initializer=bias_initializer)(x)\n",
    "    x = layers.BatchNormalization()(x)\n",
    "    x = layers.MaxPooling2D(pool_size=(3,3), strides=(2,2), padding='same')(x)\n",
    "    x = layers.Conv2D(384, 3, activation=\"relu\", kernel_initializer=kernel_initializer, bias_initializer='zeros')(x)\n",
    "    x = layers.Conv2D(384, 3, activation=\"relu\", kernel_initializer=kernel_initializer, bias_initializer=bias_initializer)(x)\n",
    "    x = layers.Conv2D(256, 3, activation=\"relu\", kernel_initializer=kernel_initializer, bias_initializer=bias_initializer)(x)\n",
    "    x = layers.MaxPooling2D(pool_size=(3,3), strides=(2,2))(x)\n",
    "    x = layers.Flatten()(x)\n",
    "    x = layers.Dense(4096, activation='relu', kernel_initializer=kernel_initializer, bias_initializer=bias_initializer)(x)\n",
    "    x = layers.Dropout(0.5)(x)\n",
    "    x = layers.Dense(4096, activation='relu', kernel_initializer=kernel_initializer, bias_initializer=bias_initializer)(x)\n",
    "    x = layers.Dropout(0.5)(x)\n",
    "    predictions = layers.Dense(num_of_classes, activation='softmax')(x)\n",
    "    model = tf.keras.Model(inputs=inputs, outputs=predictions)\n",
    "    return model\n",
    "\n",
    "# model = create_model((224,224,3)) # for imagenet\n",
    "model = create_model((32,32,3), 100) # for cifar100\n",
    "model.summary()"
   ]
  },
  {
   "cell_type": "code",
   "execution_count": 4,
   "id": "6a9a520f-38d6-4d2f-b10d-1d787af5538e",
   "metadata": {},
   "outputs": [],
   "source": [
    "import tensorflow_addons as tfa\n",
    "\n",
    "# step = tf.Variable(0, trainable=False)\n",
    "# schedule = tf.optimizers.schedules.PiecewiseConstantDecay(\n",
    "#     [10000, 15000], [1e-0, 1e-1, 1e-2])\n",
    "# lr and wd can be a function or a tensor\n",
    "# lr = 1e-1 * schedule(step)\n",
    "# wd = lambda: 5e-4 * schedule(step)\n",
    "\n",
    "lr=0.01\n",
    "momentum=0.9\n",
    "wd=5e-4\n",
    "\n",
    "optimizer = tfa.optimizers.SGDW(learning_rate=lr, weight_decay=wd, momentum=momentum)\n",
    "# optimizer = tf.optimizers.SGD(learning_rate=lr, momentum=momentum)\n"
   ]
  },
  {
   "cell_type": "code",
   "execution_count": 5,
   "id": "aee9a59c-b2b3-4291-b491-fd0399338e14",
   "metadata": {},
   "outputs": [],
   "source": [
    "model.compile(\n",
    "#     loss=keras.losses.SparseCategoricalCrossentropy(from_logits=False),\n",
    "    loss = keras.losses.CategoricalCrossentropy(from_logits=False),\n",
    "    optimizer = optimizer,\n",
    "    metrics=[\"accuracy\"],\n",
    ")\n"
   ]
  },
  {
   "cell_type": "code",
   "execution_count": 6,
   "id": "a592a183-e112-42da-b102-8e64d7427c26",
   "metadata": {},
   "outputs": [
    {
     "data": {
      "text/plain": [
       "((50000, 32, 32, 3), (50000, 100), (10000, 32, 32, 3), (10000, 100))"
      ]
     },
     "execution_count": 6,
     "metadata": {},
     "output_type": "execute_result"
    }
   ],
   "source": [
    "from tensorflow.python.keras.utils.np_utils import to_categorical\n",
    "\n",
    "(x_train, y_train), (x_test, y_test) = keras.datasets.cifar100.load_data()\n",
    "\n",
    "x_train =  x_train.astype(float) / 255.0\n",
    "x_test = x_test.astype(float) / 255.0\n",
    "\n",
    "y_train = to_categorical(y_train, num_classes=100)\n",
    "y_test = to_categorical(y_test, num_classes=100)\n",
    "\n",
    "x_train.shape, y_train.shape, x_test.shape, y_test.shape"
   ]
  },
  {
   "cell_type": "code",
   "execution_count": 7,
   "id": "9f7e2731-2a03-4324-aada-3442846a4f99",
   "metadata": {},
   "outputs": [],
   "source": [
    "# datagen = keras.preprocessing.image.ImageDataGenerator(\n",
    "#     featurewise_center=True,\n",
    "#     featurewise_std_normalization=True,\n",
    "#     rotation_range=20,\n",
    "#     width_shift_range=0.4,\n",
    "#     height_shift_range=0.4,\n",
    "#     vertical_flip=True,\n",
    "#     horizontal_flip=True,\n",
    "#     validation_split=0.2)\n",
    "# compute quantities required for featurewise normalization\n",
    "# (std, mean, and principal components if ZCA whitening is applied)\n",
    "# datagen.fit(x_train)\n"
   ]
  },
  {
   "cell_type": "code",
   "execution_count": 8,
   "id": "a7f90d68-e402-4cae-80cb-b2e417129a86",
   "metadata": {},
   "outputs": [
    {
     "name": "stdout",
     "output_type": "stream",
     "text": [
      "Epoch 1/100\n",
      "274/274 [==============================] - 19s 59ms/step - loss: 4.8371 - accuracy: 0.0093 - val_loss: 4.6056 - val_accuracy: 0.0088\n",
      "Epoch 2/100\n",
      "274/274 [==============================] - 15s 55ms/step - loss: 4.6061 - accuracy: 0.0105 - val_loss: 4.6064 - val_accuracy: 0.0081\n",
      "Epoch 3/100\n",
      "274/274 [==============================] - 15s 56ms/step - loss: 4.6057 - accuracy: 0.0102 - val_loss: 4.6068 - val_accuracy: 0.0086\n",
      "Epoch 4/100\n",
      "274/274 [==============================] - 15s 56ms/step - loss: 4.6057 - accuracy: 0.0090 - val_loss: 4.6065 - val_accuracy: 0.0095\n",
      "Epoch 5/100\n",
      "274/274 [==============================] - 15s 56ms/step - loss: 4.6057 - accuracy: 0.0108 - val_loss: 4.6070 - val_accuracy: 0.0089\n",
      "Epoch 6/100\n",
      "274/274 [==============================] - 15s 56ms/step - loss: 4.6059 - accuracy: 0.0105 - val_loss: 4.6069 - val_accuracy: 0.0091\n",
      "Epoch 7/100\n",
      "274/274 [==============================] - 15s 56ms/step - loss: 4.6057 - accuracy: 0.0104 - val_loss: 4.6073 - val_accuracy: 0.0089\n",
      "Epoch 8/100\n",
      "274/274 [==============================] - 15s 56ms/step - loss: 4.6061 - accuracy: 0.0101 - val_loss: 4.6069 - val_accuracy: 0.0091\n",
      "Epoch 9/100\n",
      "274/274 [==============================] - 15s 56ms/step - loss: 4.6060 - accuracy: 0.0095 - val_loss: 4.6074 - val_accuracy: 0.0081\n",
      "Epoch 10/100\n",
      "274/274 [==============================] - 15s 56ms/step - loss: 4.6061 - accuracy: 0.0103 - val_loss: 4.6070 - val_accuracy: 0.0081\n",
      "Epoch 11/100\n",
      "274/274 [==============================] - 15s 56ms/step - loss: 4.6061 - accuracy: 0.0100 - val_loss: 4.6069 - val_accuracy: 0.0081\n",
      "Epoch 12/100\n",
      "274/274 [==============================] - 15s 56ms/step - loss: 4.6059 - accuracy: 0.0097 - val_loss: 4.6070 - val_accuracy: 0.0081\n",
      "Epoch 13/100\n",
      "274/274 [==============================] - 15s 56ms/step - loss: 4.6059 - accuracy: 0.0105 - val_loss: 4.6074 - val_accuracy: 0.0081\n",
      "Epoch 14/100\n",
      "274/274 [==============================] - 15s 56ms/step - loss: 4.6060 - accuracy: 0.0093 - val_loss: 4.6072 - val_accuracy: 0.0081\n",
      "Epoch 15/100\n",
      "274/274 [==============================] - 15s 56ms/step - loss: 4.6059 - accuracy: 0.0095 - val_loss: 4.6071 - val_accuracy: 0.0081\n",
      "Epoch 16/100\n",
      "274/274 [==============================] - 15s 57ms/step - loss: 4.6059 - accuracy: 0.0100 - val_loss: 4.6072 - val_accuracy: 0.0084\n",
      "Epoch 17/100\n",
      "274/274 [==============================] - 16s 57ms/step - loss: 4.6057 - accuracy: 0.0088 - val_loss: 4.6072 - val_accuracy: 0.0081\n",
      "Epoch 18/100\n",
      "274/274 [==============================] - 15s 57ms/step - loss: 4.6058 - accuracy: 0.0102 - val_loss: 4.6071 - val_accuracy: 0.0081\n",
      "Epoch 19/100\n",
      "274/274 [==============================] - 15s 57ms/step - loss: 4.6057 - accuracy: 0.0102 - val_loss: 4.6072 - val_accuracy: 0.0081\n",
      "Epoch 20/100\n",
      "274/274 [==============================] - 16s 57ms/step - loss: 4.6057 - accuracy: 0.0101 - val_loss: 4.6072 - val_accuracy: 0.0081\n",
      "Epoch 21/100\n",
      "274/274 [==============================] - 15s 56ms/step - loss: 4.6056 - accuracy: 0.0103 - val_loss: 4.6071 - val_accuracy: 0.0081\n",
      "Epoch 22/100\n",
      "274/274 [==============================] - 15s 55ms/step - loss: 4.6055 - accuracy: 0.0098 - val_loss: 4.6071 - val_accuracy: 0.0081\n",
      "Epoch 23/100\n",
      "274/274 [==============================] - 15s 56ms/step - loss: 4.6055 - accuracy: 0.0104 - val_loss: 4.6071 - val_accuracy: 0.0081\n",
      "Epoch 24/100\n",
      "274/274 [==============================] - 15s 57ms/step - loss: 4.6055 - accuracy: 0.0101 - val_loss: 4.6071 - val_accuracy: 0.0081\n",
      "Epoch 25/100\n",
      "274/274 [==============================] - 16s 57ms/step - loss: 4.6054 - accuracy: 0.0107 - val_loss: 4.6070 - val_accuracy: 0.0084\n",
      "Epoch 26/100\n",
      "159/274 [================>.............] - ETA: 5s - loss: 4.6052 - accuracy: 0.0113"
     ]
    },
    {
     "ename": "KeyboardInterrupt",
     "evalue": "",
     "output_type": "error",
     "traceback": [
      "\u001b[0;31m---------------------------------------------------------------------------\u001b[0m",
      "\u001b[0;31mKeyboardInterrupt\u001b[0m                         Traceback (most recent call last)",
      "\u001b[0;32m<ipython-input-8-8861308c755f>\u001b[0m in \u001b[0;36m<module>\u001b[0;34m\u001b[0m\n\u001b[0;32m----> 1\u001b[0;31m \u001b[0mhistory\u001b[0m \u001b[0;34m=\u001b[0m \u001b[0mmodel\u001b[0m\u001b[0;34m.\u001b[0m\u001b[0mfit\u001b[0m\u001b[0;34m(\u001b[0m\u001b[0mx_train\u001b[0m\u001b[0;34m,\u001b[0m \u001b[0my_train\u001b[0m\u001b[0;34m,\u001b[0m \u001b[0mbatch_size\u001b[0m\u001b[0;34m=\u001b[0m\u001b[0;36m128\u001b[0m\u001b[0;34m,\u001b[0m \u001b[0mepochs\u001b[0m\u001b[0;34m=\u001b[0m\u001b[0;36m100\u001b[0m\u001b[0;34m,\u001b[0m \u001b[0mvalidation_split\u001b[0m\u001b[0;34m=\u001b[0m\u001b[0;36m0.3\u001b[0m\u001b[0;34m)\u001b[0m\u001b[0;34m\u001b[0m\u001b[0;34m\u001b[0m\u001b[0m\n\u001b[0m\u001b[1;32m      2\u001b[0m \u001b[0;34m\u001b[0m\u001b[0m\n\u001b[1;32m      3\u001b[0m \u001b[0;31m# fits the model on batches with real-time data augmentation:\u001b[0m\u001b[0;34m\u001b[0m\u001b[0;34m\u001b[0m\u001b[0;34m\u001b[0m\u001b[0m\n\u001b[1;32m      4\u001b[0m \u001b[0;31m# history = model.fit(datagen.flow(x_train, y_train, batch_size=128,\u001b[0m\u001b[0;34m\u001b[0m\u001b[0;34m\u001b[0m\u001b[0;34m\u001b[0m\u001b[0m\n\u001b[1;32m      5\u001b[0m \u001b[0;31m#          subset='training'),\u001b[0m\u001b[0;34m\u001b[0m\u001b[0;34m\u001b[0m\u001b[0;34m\u001b[0m\u001b[0m\n",
      "\u001b[0;32m~/anaconda3/lib/python3.8/site-packages/tensorflow/python/keras/engine/training.py\u001b[0m in \u001b[0;36mfit\u001b[0;34m(self, x, y, batch_size, epochs, verbose, callbacks, validation_split, validation_data, shuffle, class_weight, sample_weight, initial_epoch, steps_per_epoch, validation_steps, validation_batch_size, validation_freq, max_queue_size, workers, use_multiprocessing)\u001b[0m\n\u001b[1;32m   1181\u001b[0m                 _r=1):\n\u001b[1;32m   1182\u001b[0m               \u001b[0mcallbacks\u001b[0m\u001b[0;34m.\u001b[0m\u001b[0mon_train_batch_begin\u001b[0m\u001b[0;34m(\u001b[0m\u001b[0mstep\u001b[0m\u001b[0;34m)\u001b[0m\u001b[0;34m\u001b[0m\u001b[0;34m\u001b[0m\u001b[0m\n\u001b[0;32m-> 1183\u001b[0;31m               \u001b[0mtmp_logs\u001b[0m \u001b[0;34m=\u001b[0m \u001b[0mself\u001b[0m\u001b[0;34m.\u001b[0m\u001b[0mtrain_function\u001b[0m\u001b[0;34m(\u001b[0m\u001b[0miterator\u001b[0m\u001b[0;34m)\u001b[0m\u001b[0;34m\u001b[0m\u001b[0;34m\u001b[0m\u001b[0m\n\u001b[0m\u001b[1;32m   1184\u001b[0m               \u001b[0;32mif\u001b[0m \u001b[0mdata_handler\u001b[0m\u001b[0;34m.\u001b[0m\u001b[0mshould_sync\u001b[0m\u001b[0;34m:\u001b[0m\u001b[0;34m\u001b[0m\u001b[0;34m\u001b[0m\u001b[0m\n\u001b[1;32m   1185\u001b[0m                 \u001b[0mcontext\u001b[0m\u001b[0;34m.\u001b[0m\u001b[0masync_wait\u001b[0m\u001b[0;34m(\u001b[0m\u001b[0;34m)\u001b[0m\u001b[0;34m\u001b[0m\u001b[0;34m\u001b[0m\u001b[0m\n",
      "\u001b[0;32m~/anaconda3/lib/python3.8/site-packages/tensorflow/python/eager/def_function.py\u001b[0m in \u001b[0;36m__call__\u001b[0;34m(self, *args, **kwds)\u001b[0m\n\u001b[1;32m    887\u001b[0m \u001b[0;34m\u001b[0m\u001b[0m\n\u001b[1;32m    888\u001b[0m       \u001b[0;32mwith\u001b[0m \u001b[0mOptionalXlaContext\u001b[0m\u001b[0;34m(\u001b[0m\u001b[0mself\u001b[0m\u001b[0;34m.\u001b[0m\u001b[0m_jit_compile\u001b[0m\u001b[0;34m)\u001b[0m\u001b[0;34m:\u001b[0m\u001b[0;34m\u001b[0m\u001b[0;34m\u001b[0m\u001b[0m\n\u001b[0;32m--> 889\u001b[0;31m         \u001b[0mresult\u001b[0m \u001b[0;34m=\u001b[0m \u001b[0mself\u001b[0m\u001b[0;34m.\u001b[0m\u001b[0m_call\u001b[0m\u001b[0;34m(\u001b[0m\u001b[0;34m*\u001b[0m\u001b[0margs\u001b[0m\u001b[0;34m,\u001b[0m \u001b[0;34m**\u001b[0m\u001b[0mkwds\u001b[0m\u001b[0;34m)\u001b[0m\u001b[0;34m\u001b[0m\u001b[0;34m\u001b[0m\u001b[0m\n\u001b[0m\u001b[1;32m    890\u001b[0m \u001b[0;34m\u001b[0m\u001b[0m\n\u001b[1;32m    891\u001b[0m       \u001b[0mnew_tracing_count\u001b[0m \u001b[0;34m=\u001b[0m \u001b[0mself\u001b[0m\u001b[0;34m.\u001b[0m\u001b[0mexperimental_get_tracing_count\u001b[0m\u001b[0;34m(\u001b[0m\u001b[0;34m)\u001b[0m\u001b[0;34m\u001b[0m\u001b[0;34m\u001b[0m\u001b[0m\n",
      "\u001b[0;32m~/anaconda3/lib/python3.8/site-packages/tensorflow/python/eager/def_function.py\u001b[0m in \u001b[0;36m_call\u001b[0;34m(self, *args, **kwds)\u001b[0m\n\u001b[1;32m    915\u001b[0m       \u001b[0;31m# In this case we have created variables on the first call, so we run the\u001b[0m\u001b[0;34m\u001b[0m\u001b[0;34m\u001b[0m\u001b[0;34m\u001b[0m\u001b[0m\n\u001b[1;32m    916\u001b[0m       \u001b[0;31m# defunned version which is guaranteed to never create variables.\u001b[0m\u001b[0;34m\u001b[0m\u001b[0;34m\u001b[0m\u001b[0;34m\u001b[0m\u001b[0m\n\u001b[0;32m--> 917\u001b[0;31m       \u001b[0;32mreturn\u001b[0m \u001b[0mself\u001b[0m\u001b[0;34m.\u001b[0m\u001b[0m_stateless_fn\u001b[0m\u001b[0;34m(\u001b[0m\u001b[0;34m*\u001b[0m\u001b[0margs\u001b[0m\u001b[0;34m,\u001b[0m \u001b[0;34m**\u001b[0m\u001b[0mkwds\u001b[0m\u001b[0;34m)\u001b[0m  \u001b[0;31m# pylint: disable=not-callable\u001b[0m\u001b[0;34m\u001b[0m\u001b[0;34m\u001b[0m\u001b[0m\n\u001b[0m\u001b[1;32m    918\u001b[0m     \u001b[0;32melif\u001b[0m \u001b[0mself\u001b[0m\u001b[0;34m.\u001b[0m\u001b[0m_stateful_fn\u001b[0m \u001b[0;32mis\u001b[0m \u001b[0;32mnot\u001b[0m \u001b[0;32mNone\u001b[0m\u001b[0;34m:\u001b[0m\u001b[0;34m\u001b[0m\u001b[0;34m\u001b[0m\u001b[0m\n\u001b[1;32m    919\u001b[0m       \u001b[0;31m# Release the lock early so that multiple threads can perform the call\u001b[0m\u001b[0;34m\u001b[0m\u001b[0;34m\u001b[0m\u001b[0;34m\u001b[0m\u001b[0m\n",
      "\u001b[0;32m~/anaconda3/lib/python3.8/site-packages/tensorflow/python/eager/function.py\u001b[0m in \u001b[0;36m__call__\u001b[0;34m(self, *args, **kwargs)\u001b[0m\n\u001b[1;32m   3021\u001b[0m       (graph_function,\n\u001b[1;32m   3022\u001b[0m        filtered_flat_args) = self._maybe_define_function(args, kwargs)\n\u001b[0;32m-> 3023\u001b[0;31m     return graph_function._call_flat(\n\u001b[0m\u001b[1;32m   3024\u001b[0m         filtered_flat_args, captured_inputs=graph_function.captured_inputs)  # pylint: disable=protected-access\n\u001b[1;32m   3025\u001b[0m \u001b[0;34m\u001b[0m\u001b[0m\n",
      "\u001b[0;32m~/anaconda3/lib/python3.8/site-packages/tensorflow/python/eager/function.py\u001b[0m in \u001b[0;36m_call_flat\u001b[0;34m(self, args, captured_inputs, cancellation_manager)\u001b[0m\n\u001b[1;32m   1958\u001b[0m         and executing_eagerly):\n\u001b[1;32m   1959\u001b[0m       \u001b[0;31m# No tape is watching; skip to running the function.\u001b[0m\u001b[0;34m\u001b[0m\u001b[0;34m\u001b[0m\u001b[0;34m\u001b[0m\u001b[0m\n\u001b[0;32m-> 1960\u001b[0;31m       return self._build_call_outputs(self._inference_function.call(\n\u001b[0m\u001b[1;32m   1961\u001b[0m           ctx, args, cancellation_manager=cancellation_manager))\n\u001b[1;32m   1962\u001b[0m     forward_backward = self._select_forward_and_backward_functions(\n",
      "\u001b[0;32m~/anaconda3/lib/python3.8/site-packages/tensorflow/python/eager/function.py\u001b[0m in \u001b[0;36mcall\u001b[0;34m(self, ctx, args, cancellation_manager)\u001b[0m\n\u001b[1;32m    589\u001b[0m       \u001b[0;32mwith\u001b[0m \u001b[0m_InterpolateFunctionError\u001b[0m\u001b[0;34m(\u001b[0m\u001b[0mself\u001b[0m\u001b[0;34m)\u001b[0m\u001b[0;34m:\u001b[0m\u001b[0;34m\u001b[0m\u001b[0;34m\u001b[0m\u001b[0m\n\u001b[1;32m    590\u001b[0m         \u001b[0;32mif\u001b[0m \u001b[0mcancellation_manager\u001b[0m \u001b[0;32mis\u001b[0m \u001b[0;32mNone\u001b[0m\u001b[0;34m:\u001b[0m\u001b[0;34m\u001b[0m\u001b[0;34m\u001b[0m\u001b[0m\n\u001b[0;32m--> 591\u001b[0;31m           outputs = execute.execute(\n\u001b[0m\u001b[1;32m    592\u001b[0m               \u001b[0mstr\u001b[0m\u001b[0;34m(\u001b[0m\u001b[0mself\u001b[0m\u001b[0;34m.\u001b[0m\u001b[0msignature\u001b[0m\u001b[0;34m.\u001b[0m\u001b[0mname\u001b[0m\u001b[0;34m)\u001b[0m\u001b[0;34m,\u001b[0m\u001b[0;34m\u001b[0m\u001b[0;34m\u001b[0m\u001b[0m\n\u001b[1;32m    593\u001b[0m               \u001b[0mnum_outputs\u001b[0m\u001b[0;34m=\u001b[0m\u001b[0mself\u001b[0m\u001b[0;34m.\u001b[0m\u001b[0m_num_outputs\u001b[0m\u001b[0;34m,\u001b[0m\u001b[0;34m\u001b[0m\u001b[0;34m\u001b[0m\u001b[0m\n",
      "\u001b[0;32m~/anaconda3/lib/python3.8/site-packages/tensorflow/python/eager/execute.py\u001b[0m in \u001b[0;36mquick_execute\u001b[0;34m(op_name, num_outputs, inputs, attrs, ctx, name)\u001b[0m\n\u001b[1;32m     57\u001b[0m   \u001b[0;32mtry\u001b[0m\u001b[0;34m:\u001b[0m\u001b[0;34m\u001b[0m\u001b[0;34m\u001b[0m\u001b[0m\n\u001b[1;32m     58\u001b[0m     \u001b[0mctx\u001b[0m\u001b[0;34m.\u001b[0m\u001b[0mensure_initialized\u001b[0m\u001b[0;34m(\u001b[0m\u001b[0;34m)\u001b[0m\u001b[0;34m\u001b[0m\u001b[0;34m\u001b[0m\u001b[0m\n\u001b[0;32m---> 59\u001b[0;31m     tensors = pywrap_tfe.TFE_Py_Execute(ctx._handle, device_name, op_name,\n\u001b[0m\u001b[1;32m     60\u001b[0m                                         inputs, attrs, num_outputs)\n\u001b[1;32m     61\u001b[0m   \u001b[0;32mexcept\u001b[0m \u001b[0mcore\u001b[0m\u001b[0;34m.\u001b[0m\u001b[0m_NotOkStatusException\u001b[0m \u001b[0;32mas\u001b[0m \u001b[0me\u001b[0m\u001b[0;34m:\u001b[0m\u001b[0;34m\u001b[0m\u001b[0;34m\u001b[0m\u001b[0m\n",
      "\u001b[0;31mKeyboardInterrupt\u001b[0m: "
     ]
    }
   ],
   "source": [
    "history = model.fit(x_train, y_train, batch_size=128, epochs=100, validation_split=0.3)\n",
    "\n",
    "# fits the model on batches with real-time data augmentation:\n",
    "# history = model.fit(datagen.flow(x_train, y_train, batch_size=128,\n",
    "#          subset='training'),\n",
    "#          validation_data=datagen.flow(x_train, y_train, batch_size=32, subset='validation'),\n",
    "#          epochs=20)\n",
    "\n",
    "test_scores = model.evaluate(x_test, y_test)\n",
    "print(\"Test loss:\", test_scores[0])\n",
    "print(\"Test accuracy:\", test_scores[1])# summarize history for accuracy"
   ]
  },
  {
   "cell_type": "code",
   "execution_count": null,
   "id": "c7de90fa-c1b0-4fa0-97cc-0f8048fd9cc5",
   "metadata": {},
   "outputs": [],
   "source": [
    "import matplotlib.pyplot as plt\n",
    "plt.plot(history.history['accuracy'])\n",
    "plt.plot(history.history['val_accuracy'])\n",
    "plt.title('model accuracy')\n",
    "plt.ylabel('accuracy')\n",
    "plt.xlabel('epoch')\n",
    "plt.legend(['train', 'test'], loc='upper left')\n",
    "plt.show()\n",
    "# summarize history for loss\n",
    "plt.plot(history.history['loss'])\n",
    "plt.plot(history.history['val_loss'])\n",
    "plt.title('model loss')\n",
    "plt.ylabel('loss')\n",
    "plt.xlabel('epoch')\n",
    "plt.legend(['train', 'test'], loc='upper left')\n",
    "plt.show()"
   ]
  }
 ],
 "metadata": {
  "kernelspec": {
   "display_name": "Python 3",
   "language": "python",
   "name": "python3"
  },
  "language_info": {
   "codemirror_mode": {
    "name": "ipython",
    "version": 3
   },
   "file_extension": ".py",
   "mimetype": "text/x-python",
   "name": "python",
   "nbconvert_exporter": "python",
   "pygments_lexer": "ipython3",
   "version": "3.8.8"
  }
 },
 "nbformat": 4,
 "nbformat_minor": 5
}
